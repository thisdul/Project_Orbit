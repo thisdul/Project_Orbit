{
  "nbformat": 4,
  "nbformat_minor": 0,
  "metadata": {
    "colab": {
      "name": "PA_Kel.13ipynb",
      "provenance": [],
      "collapsed_sections": []
    },
    "kernelspec": {
      "name": "python3",
      "display_name": "Python 3"
    },
    "language_info": {
      "name": "python"
    }
  },
  "cells": [
    {
      "cell_type": "markdown",
      "source": [
        "#**Prediksi Tingkat Resiko Penyebaran Covid-19 pada Pulau Sumatera Menggunakan Metode K-NN dan SVM**\n",
        "\n",
        ">Fadhilah Nur Amaliah\n",
        "\n",
        "> Ghifary Catur Achmad\n",
        "\n",
        "> Mohammad Luthfan Faohan\n",
        "\n",
        "> Naila Ameera Larasati\n",
        "\n",
        "> Nova Nurul Putri\n",
        "\n",
        "\n",
        "\n",
        "\n",
        "\n",
        "\n",
        "\n",
        "\n",
        "\n"
      ],
      "metadata": {
        "id": "7S2mweUvu5aL"
      }
    },
    {
      "cell_type": "markdown",
      "source": [
        "##Import library"
      ],
      "metadata": {
        "id": "iIuxkH7Gj3KE"
      }
    },
    {
      "cell_type": "code",
      "source": [
        "import sklearn\n",
        "import numpy as np\n",
        "import pandas as pd\n",
        "from sklearn.model_selection import cross_validate,cross_val_score,train_test_split\n",
        "from sklearn.metrics import matthews_corrcoef\n",
        "from sklearn.metrics import classification_report\n",
        "from sklearn.metrics import confusion_matrix\n",
        "from sklearn.neighbors import KNeighborsClassifier\n",
        "from sklearn.preprocessing import MinMaxScaler\n",
        "from sklearn.metrics import accuracy_score\n"
      ],
      "metadata": {
        "id": "QKBLsHXQUe9P"
      },
      "execution_count": null,
      "outputs": []
    },
    {
      "cell_type": "markdown",
      "source": [
        "##Menghubungkan colab dengan google drive dan mengimport dataset covid_sumatera "
      ],
      "metadata": {
        "id": "CklyzItPj_UI"
      }
    },
    {
      "cell_type": "code",
      "source": [
        "from google.colab import drive\n",
        "drive.mount('/content/drive')"
      ],
      "metadata": {
        "colab": {
          "base_uri": "https://localhost:8080/"
        },
        "id": "aqBL_qRwXlIq",
        "outputId": "eb8a1512-8d60-494c-90ce-cff90c5dd2c1"
      },
      "execution_count": null,
      "outputs": [
        {
          "output_type": "stream",
          "name": "stdout",
          "text": [
            "Mounted at /content/drive\n"
          ]
        }
      ]
    },
    {
      "cell_type": "code",
      "source": [
        "dataset = pd.read_csv(\"drive/MyDrive/Project Orbit/covid_sumatera.csv\")\n",
        "\n",
        "# Menampilkan shape dari data yg kita punya\n",
        "dataset.head(10)"
      ],
      "metadata": {
        "colab": {
          "base_uri": "https://localhost:8080/",
          "height": 363
        },
        "id": "SxbLJp1-Ui4D",
        "outputId": "3f3e5436-ab76-485e-c128-aba1fa7937a0"
      },
      "execution_count": null,
      "outputs": [
        {
          "output_type": "execute_result",
          "data": {
            "text/plain": [
              "         kota_kabupaten  kasus_positif_total  total_meninggal  masih_sakit  \\\n",
              "0           Kota Padang               25.421            424.0          1.0   \n",
              "1             Kab. Agam                4.475            115.0        104.0   \n",
              "2      Kab. Tanah Datar                2.818             87.0         64.0   \n",
              "3      Kota Bukittinggi                2.566             52.0         26.0   \n",
              "4  Kab. Padang Pariaman                2.148             93.0         78.0   \n",
              "5  Kab. Pesisir Selatan                2.127             68.0         53.0   \n",
              "6            Kab. Solok                2.052             70.0         52.0   \n",
              "7   Kab. Limapuluh Kota                1.768             49.0         33.0   \n",
              "8       Kota Payakumbuh                1.672             28.0         13.0   \n",
              "9   Kota Padang Panjang                1.666             31.0         11.0   \n",
              "\n",
              "   total_sembuh tingkat_resiko  \n",
              "0        24.996  Resiko Tinggi  \n",
              "1         4.256  Resiko Tinggi  \n",
              "2         2.667  Resiko Rendah  \n",
              "3         2.488  Resiko Rendah  \n",
              "4         1.977  Resiko Tinggi  \n",
              "5         2.006  Resiko Rendah  \n",
              "6         1.930  Resiko Rendah  \n",
              "7         1.686  Resiko Rendah  \n",
              "8         1.631  Resiko Rendah  \n",
              "9         1.624  Resiko Rendah  "
            ],
            "text/html": [
              "\n",
              "  <div id=\"df-6ef38b66-c273-4fb6-99dc-23845f8d3c78\">\n",
              "    <div class=\"colab-df-container\">\n",
              "      <div>\n",
              "<style scoped>\n",
              "    .dataframe tbody tr th:only-of-type {\n",
              "        vertical-align: middle;\n",
              "    }\n",
              "\n",
              "    .dataframe tbody tr th {\n",
              "        vertical-align: top;\n",
              "    }\n",
              "\n",
              "    .dataframe thead th {\n",
              "        text-align: right;\n",
              "    }\n",
              "</style>\n",
              "<table border=\"1\" class=\"dataframe\">\n",
              "  <thead>\n",
              "    <tr style=\"text-align: right;\">\n",
              "      <th></th>\n",
              "      <th>kota_kabupaten</th>\n",
              "      <th>kasus_positif_total</th>\n",
              "      <th>total_meninggal</th>\n",
              "      <th>masih_sakit</th>\n",
              "      <th>total_sembuh</th>\n",
              "      <th>tingkat_resiko</th>\n",
              "    </tr>\n",
              "  </thead>\n",
              "  <tbody>\n",
              "    <tr>\n",
              "      <th>0</th>\n",
              "      <td>Kota Padang</td>\n",
              "      <td>25.421</td>\n",
              "      <td>424.0</td>\n",
              "      <td>1.0</td>\n",
              "      <td>24.996</td>\n",
              "      <td>Resiko Tinggi</td>\n",
              "    </tr>\n",
              "    <tr>\n",
              "      <th>1</th>\n",
              "      <td>Kab. Agam</td>\n",
              "      <td>4.475</td>\n",
              "      <td>115.0</td>\n",
              "      <td>104.0</td>\n",
              "      <td>4.256</td>\n",
              "      <td>Resiko Tinggi</td>\n",
              "    </tr>\n",
              "    <tr>\n",
              "      <th>2</th>\n",
              "      <td>Kab. Tanah Datar</td>\n",
              "      <td>2.818</td>\n",
              "      <td>87.0</td>\n",
              "      <td>64.0</td>\n",
              "      <td>2.667</td>\n",
              "      <td>Resiko Rendah</td>\n",
              "    </tr>\n",
              "    <tr>\n",
              "      <th>3</th>\n",
              "      <td>Kota Bukittinggi</td>\n",
              "      <td>2.566</td>\n",
              "      <td>52.0</td>\n",
              "      <td>26.0</td>\n",
              "      <td>2.488</td>\n",
              "      <td>Resiko Rendah</td>\n",
              "    </tr>\n",
              "    <tr>\n",
              "      <th>4</th>\n",
              "      <td>Kab. Padang Pariaman</td>\n",
              "      <td>2.148</td>\n",
              "      <td>93.0</td>\n",
              "      <td>78.0</td>\n",
              "      <td>1.977</td>\n",
              "      <td>Resiko Tinggi</td>\n",
              "    </tr>\n",
              "    <tr>\n",
              "      <th>5</th>\n",
              "      <td>Kab. Pesisir Selatan</td>\n",
              "      <td>2.127</td>\n",
              "      <td>68.0</td>\n",
              "      <td>53.0</td>\n",
              "      <td>2.006</td>\n",
              "      <td>Resiko Rendah</td>\n",
              "    </tr>\n",
              "    <tr>\n",
              "      <th>6</th>\n",
              "      <td>Kab. Solok</td>\n",
              "      <td>2.052</td>\n",
              "      <td>70.0</td>\n",
              "      <td>52.0</td>\n",
              "      <td>1.930</td>\n",
              "      <td>Resiko Rendah</td>\n",
              "    </tr>\n",
              "    <tr>\n",
              "      <th>7</th>\n",
              "      <td>Kab. Limapuluh Kota</td>\n",
              "      <td>1.768</td>\n",
              "      <td>49.0</td>\n",
              "      <td>33.0</td>\n",
              "      <td>1.686</td>\n",
              "      <td>Resiko Rendah</td>\n",
              "    </tr>\n",
              "    <tr>\n",
              "      <th>8</th>\n",
              "      <td>Kota Payakumbuh</td>\n",
              "      <td>1.672</td>\n",
              "      <td>28.0</td>\n",
              "      <td>13.0</td>\n",
              "      <td>1.631</td>\n",
              "      <td>Resiko Rendah</td>\n",
              "    </tr>\n",
              "    <tr>\n",
              "      <th>9</th>\n",
              "      <td>Kota Padang Panjang</td>\n",
              "      <td>1.666</td>\n",
              "      <td>31.0</td>\n",
              "      <td>11.0</td>\n",
              "      <td>1.624</td>\n",
              "      <td>Resiko Rendah</td>\n",
              "    </tr>\n",
              "  </tbody>\n",
              "</table>\n",
              "</div>\n",
              "      <button class=\"colab-df-convert\" onclick=\"convertToInteractive('df-6ef38b66-c273-4fb6-99dc-23845f8d3c78')\"\n",
              "              title=\"Convert this dataframe to an interactive table.\"\n",
              "              style=\"display:none;\">\n",
              "        \n",
              "  <svg xmlns=\"http://www.w3.org/2000/svg\" height=\"24px\"viewBox=\"0 0 24 24\"\n",
              "       width=\"24px\">\n",
              "    <path d=\"M0 0h24v24H0V0z\" fill=\"none\"/>\n",
              "    <path d=\"M18.56 5.44l.94 2.06.94-2.06 2.06-.94-2.06-.94-.94-2.06-.94 2.06-2.06.94zm-11 1L8.5 8.5l.94-2.06 2.06-.94-2.06-.94L8.5 2.5l-.94 2.06-2.06.94zm10 10l.94 2.06.94-2.06 2.06-.94-2.06-.94-.94-2.06-.94 2.06-2.06.94z\"/><path d=\"M17.41 7.96l-1.37-1.37c-.4-.4-.92-.59-1.43-.59-.52 0-1.04.2-1.43.59L10.3 9.45l-7.72 7.72c-.78.78-.78 2.05 0 2.83L4 21.41c.39.39.9.59 1.41.59.51 0 1.02-.2 1.41-.59l7.78-7.78 2.81-2.81c.8-.78.8-2.07 0-2.86zM5.41 20L4 18.59l7.72-7.72 1.47 1.35L5.41 20z\"/>\n",
              "  </svg>\n",
              "      </button>\n",
              "      \n",
              "  <style>\n",
              "    .colab-df-container {\n",
              "      display:flex;\n",
              "      flex-wrap:wrap;\n",
              "      gap: 12px;\n",
              "    }\n",
              "\n",
              "    .colab-df-convert {\n",
              "      background-color: #E8F0FE;\n",
              "      border: none;\n",
              "      border-radius: 50%;\n",
              "      cursor: pointer;\n",
              "      display: none;\n",
              "      fill: #1967D2;\n",
              "      height: 32px;\n",
              "      padding: 0 0 0 0;\n",
              "      width: 32px;\n",
              "    }\n",
              "\n",
              "    .colab-df-convert:hover {\n",
              "      background-color: #E2EBFA;\n",
              "      box-shadow: 0px 1px 2px rgba(60, 64, 67, 0.3), 0px 1px 3px 1px rgba(60, 64, 67, 0.15);\n",
              "      fill: #174EA6;\n",
              "    }\n",
              "\n",
              "    [theme=dark] .colab-df-convert {\n",
              "      background-color: #3B4455;\n",
              "      fill: #D2E3FC;\n",
              "    }\n",
              "\n",
              "    [theme=dark] .colab-df-convert:hover {\n",
              "      background-color: #434B5C;\n",
              "      box-shadow: 0px 1px 3px 1px rgba(0, 0, 0, 0.15);\n",
              "      filter: drop-shadow(0px 1px 2px rgba(0, 0, 0, 0.3));\n",
              "      fill: #FFFFFF;\n",
              "    }\n",
              "  </style>\n",
              "\n",
              "      <script>\n",
              "        const buttonEl =\n",
              "          document.querySelector('#df-6ef38b66-c273-4fb6-99dc-23845f8d3c78 button.colab-df-convert');\n",
              "        buttonEl.style.display =\n",
              "          google.colab.kernel.accessAllowed ? 'block' : 'none';\n",
              "\n",
              "        async function convertToInteractive(key) {\n",
              "          const element = document.querySelector('#df-6ef38b66-c273-4fb6-99dc-23845f8d3c78');\n",
              "          const dataTable =\n",
              "            await google.colab.kernel.invokeFunction('convertToInteractive',\n",
              "                                                     [key], {});\n",
              "          if (!dataTable) return;\n",
              "\n",
              "          const docLinkHtml = 'Like what you see? Visit the ' +\n",
              "            '<a target=\"_blank\" href=https://colab.research.google.com/notebooks/data_table.ipynb>data table notebook</a>'\n",
              "            + ' to learn more about interactive tables.';\n",
              "          element.innerHTML = '';\n",
              "          dataTable['output_type'] = 'display_data';\n",
              "          await google.colab.output.renderOutput(dataTable, element);\n",
              "          const docLink = document.createElement('div');\n",
              "          docLink.innerHTML = docLinkHtml;\n",
              "          element.appendChild(docLink);\n",
              "        }\n",
              "      </script>\n",
              "    </div>\n",
              "  </div>\n",
              "  "
            ]
          },
          "metadata": {},
          "execution_count": 3
        }
      ]
    },
    {
      "cell_type": "code",
      "source": [
        "dataset.shape"
      ],
      "metadata": {
        "colab": {
          "base_uri": "https://localhost:8080/"
        },
        "id": "fVGIdjdgoPHP",
        "outputId": "deffde91-f28f-4f65-d564-ce280836dea8"
      },
      "execution_count": null,
      "outputs": [
        {
          "output_type": "execute_result",
          "data": {
            "text/plain": [
              "(150, 6)"
            ]
          },
          "metadata": {},
          "execution_count": 4
        }
      ]
    },
    {
      "cell_type": "code",
      "source": [
        "df = dataset.drop(['kota_kabupaten'], axis = 1)\n",
        "df"
      ],
      "metadata": {
        "id": "dCgzjYdcU_oR",
        "outputId": "75b9f4e6-18cc-415b-b1cf-159a6f26d52c",
        "colab": {
          "base_uri": "https://localhost:8080/",
          "height": 424
        }
      },
      "execution_count": null,
      "outputs": [
        {
          "output_type": "execute_result",
          "data": {
            "text/plain": [
              "     kasus_positif_total  total_meninggal  masih_sakit  total_sembuh  \\\n",
              "0                 25.421            424.0          1.0        24.996   \n",
              "1                  4.475            115.0        104.0         4.256   \n",
              "2                  2.818             87.0         64.0         2.667   \n",
              "3                  2.566             52.0         26.0         2.488   \n",
              "4                  2.148             93.0         78.0         1.977   \n",
              "..                   ...              ...          ...           ...   \n",
              "145                1.131             32.0          0.0         1.099   \n",
              "146                1.098             34.0          0.0         1.064   \n",
              "147              859.000             26.0          3.0       830.000   \n",
              "148              830.000              4.0          0.0       826.000   \n",
              "149              622.000              9.0          0.0       613.000   \n",
              "\n",
              "    tingkat_resiko  \n",
              "0    Resiko Tinggi  \n",
              "1    Resiko Tinggi  \n",
              "2    Resiko Rendah  \n",
              "3    Resiko Rendah  \n",
              "4    Resiko Tinggi  \n",
              "..             ...  \n",
              "145  Resiko Tinggi  \n",
              "146  Resiko Tinggi  \n",
              "147  Resiko Tinggi  \n",
              "148  Resiko Rendah  \n",
              "149  Resiko Rendah  \n",
              "\n",
              "[150 rows x 5 columns]"
            ],
            "text/html": [
              "\n",
              "  <div id=\"df-25b5ecfd-dc07-4b72-b3e3-1481a50f0674\">\n",
              "    <div class=\"colab-df-container\">\n",
              "      <div>\n",
              "<style scoped>\n",
              "    .dataframe tbody tr th:only-of-type {\n",
              "        vertical-align: middle;\n",
              "    }\n",
              "\n",
              "    .dataframe tbody tr th {\n",
              "        vertical-align: top;\n",
              "    }\n",
              "\n",
              "    .dataframe thead th {\n",
              "        text-align: right;\n",
              "    }\n",
              "</style>\n",
              "<table border=\"1\" class=\"dataframe\">\n",
              "  <thead>\n",
              "    <tr style=\"text-align: right;\">\n",
              "      <th></th>\n",
              "      <th>kasus_positif_total</th>\n",
              "      <th>total_meninggal</th>\n",
              "      <th>masih_sakit</th>\n",
              "      <th>total_sembuh</th>\n",
              "      <th>tingkat_resiko</th>\n",
              "    </tr>\n",
              "  </thead>\n",
              "  <tbody>\n",
              "    <tr>\n",
              "      <th>0</th>\n",
              "      <td>25.421</td>\n",
              "      <td>424.0</td>\n",
              "      <td>1.0</td>\n",
              "      <td>24.996</td>\n",
              "      <td>Resiko Tinggi</td>\n",
              "    </tr>\n",
              "    <tr>\n",
              "      <th>1</th>\n",
              "      <td>4.475</td>\n",
              "      <td>115.0</td>\n",
              "      <td>104.0</td>\n",
              "      <td>4.256</td>\n",
              "      <td>Resiko Tinggi</td>\n",
              "    </tr>\n",
              "    <tr>\n",
              "      <th>2</th>\n",
              "      <td>2.818</td>\n",
              "      <td>87.0</td>\n",
              "      <td>64.0</td>\n",
              "      <td>2.667</td>\n",
              "      <td>Resiko Rendah</td>\n",
              "    </tr>\n",
              "    <tr>\n",
              "      <th>3</th>\n",
              "      <td>2.566</td>\n",
              "      <td>52.0</td>\n",
              "      <td>26.0</td>\n",
              "      <td>2.488</td>\n",
              "      <td>Resiko Rendah</td>\n",
              "    </tr>\n",
              "    <tr>\n",
              "      <th>4</th>\n",
              "      <td>2.148</td>\n",
              "      <td>93.0</td>\n",
              "      <td>78.0</td>\n",
              "      <td>1.977</td>\n",
              "      <td>Resiko Tinggi</td>\n",
              "    </tr>\n",
              "    <tr>\n",
              "      <th>...</th>\n",
              "      <td>...</td>\n",
              "      <td>...</td>\n",
              "      <td>...</td>\n",
              "      <td>...</td>\n",
              "      <td>...</td>\n",
              "    </tr>\n",
              "    <tr>\n",
              "      <th>145</th>\n",
              "      <td>1.131</td>\n",
              "      <td>32.0</td>\n",
              "      <td>0.0</td>\n",
              "      <td>1.099</td>\n",
              "      <td>Resiko Tinggi</td>\n",
              "    </tr>\n",
              "    <tr>\n",
              "      <th>146</th>\n",
              "      <td>1.098</td>\n",
              "      <td>34.0</td>\n",
              "      <td>0.0</td>\n",
              "      <td>1.064</td>\n",
              "      <td>Resiko Tinggi</td>\n",
              "    </tr>\n",
              "    <tr>\n",
              "      <th>147</th>\n",
              "      <td>859.000</td>\n",
              "      <td>26.0</td>\n",
              "      <td>3.0</td>\n",
              "      <td>830.000</td>\n",
              "      <td>Resiko Tinggi</td>\n",
              "    </tr>\n",
              "    <tr>\n",
              "      <th>148</th>\n",
              "      <td>830.000</td>\n",
              "      <td>4.0</td>\n",
              "      <td>0.0</td>\n",
              "      <td>826.000</td>\n",
              "      <td>Resiko Rendah</td>\n",
              "    </tr>\n",
              "    <tr>\n",
              "      <th>149</th>\n",
              "      <td>622.000</td>\n",
              "      <td>9.0</td>\n",
              "      <td>0.0</td>\n",
              "      <td>613.000</td>\n",
              "      <td>Resiko Rendah</td>\n",
              "    </tr>\n",
              "  </tbody>\n",
              "</table>\n",
              "<p>150 rows × 5 columns</p>\n",
              "</div>\n",
              "      <button class=\"colab-df-convert\" onclick=\"convertToInteractive('df-25b5ecfd-dc07-4b72-b3e3-1481a50f0674')\"\n",
              "              title=\"Convert this dataframe to an interactive table.\"\n",
              "              style=\"display:none;\">\n",
              "        \n",
              "  <svg xmlns=\"http://www.w3.org/2000/svg\" height=\"24px\"viewBox=\"0 0 24 24\"\n",
              "       width=\"24px\">\n",
              "    <path d=\"M0 0h24v24H0V0z\" fill=\"none\"/>\n",
              "    <path d=\"M18.56 5.44l.94 2.06.94-2.06 2.06-.94-2.06-.94-.94-2.06-.94 2.06-2.06.94zm-11 1L8.5 8.5l.94-2.06 2.06-.94-2.06-.94L8.5 2.5l-.94 2.06-2.06.94zm10 10l.94 2.06.94-2.06 2.06-.94-2.06-.94-.94-2.06-.94 2.06-2.06.94z\"/><path d=\"M17.41 7.96l-1.37-1.37c-.4-.4-.92-.59-1.43-.59-.52 0-1.04.2-1.43.59L10.3 9.45l-7.72 7.72c-.78.78-.78 2.05 0 2.83L4 21.41c.39.39.9.59 1.41.59.51 0 1.02-.2 1.41-.59l7.78-7.78 2.81-2.81c.8-.78.8-2.07 0-2.86zM5.41 20L4 18.59l7.72-7.72 1.47 1.35L5.41 20z\"/>\n",
              "  </svg>\n",
              "      </button>\n",
              "      \n",
              "  <style>\n",
              "    .colab-df-container {\n",
              "      display:flex;\n",
              "      flex-wrap:wrap;\n",
              "      gap: 12px;\n",
              "    }\n",
              "\n",
              "    .colab-df-convert {\n",
              "      background-color: #E8F0FE;\n",
              "      border: none;\n",
              "      border-radius: 50%;\n",
              "      cursor: pointer;\n",
              "      display: none;\n",
              "      fill: #1967D2;\n",
              "      height: 32px;\n",
              "      padding: 0 0 0 0;\n",
              "      width: 32px;\n",
              "    }\n",
              "\n",
              "    .colab-df-convert:hover {\n",
              "      background-color: #E2EBFA;\n",
              "      box-shadow: 0px 1px 2px rgba(60, 64, 67, 0.3), 0px 1px 3px 1px rgba(60, 64, 67, 0.15);\n",
              "      fill: #174EA6;\n",
              "    }\n",
              "\n",
              "    [theme=dark] .colab-df-convert {\n",
              "      background-color: #3B4455;\n",
              "      fill: #D2E3FC;\n",
              "    }\n",
              "\n",
              "    [theme=dark] .colab-df-convert:hover {\n",
              "      background-color: #434B5C;\n",
              "      box-shadow: 0px 1px 3px 1px rgba(0, 0, 0, 0.15);\n",
              "      filter: drop-shadow(0px 1px 2px rgba(0, 0, 0, 0.3));\n",
              "      fill: #FFFFFF;\n",
              "    }\n",
              "  </style>\n",
              "\n",
              "      <script>\n",
              "        const buttonEl =\n",
              "          document.querySelector('#df-25b5ecfd-dc07-4b72-b3e3-1481a50f0674 button.colab-df-convert');\n",
              "        buttonEl.style.display =\n",
              "          google.colab.kernel.accessAllowed ? 'block' : 'none';\n",
              "\n",
              "        async function convertToInteractive(key) {\n",
              "          const element = document.querySelector('#df-25b5ecfd-dc07-4b72-b3e3-1481a50f0674');\n",
              "          const dataTable =\n",
              "            await google.colab.kernel.invokeFunction('convertToInteractive',\n",
              "                                                     [key], {});\n",
              "          if (!dataTable) return;\n",
              "\n",
              "          const docLinkHtml = 'Like what you see? Visit the ' +\n",
              "            '<a target=\"_blank\" href=https://colab.research.google.com/notebooks/data_table.ipynb>data table notebook</a>'\n",
              "            + ' to learn more about interactive tables.';\n",
              "          element.innerHTML = '';\n",
              "          dataTable['output_type'] = 'display_data';\n",
              "          await google.colab.output.renderOutput(dataTable, element);\n",
              "          const docLink = document.createElement('div');\n",
              "          docLink.innerHTML = docLinkHtml;\n",
              "          element.appendChild(docLink);\n",
              "        }\n",
              "      </script>\n",
              "    </div>\n",
              "  </div>\n",
              "  "
            ]
          },
          "metadata": {},
          "execution_count": 5
        }
      ]
    },
    {
      "cell_type": "code",
      "source": [
        "from sklearn.preprocessing import LabelEncoder, OneHotEncoder\n",
        "#Encode untuk data kategorikal kolom kota/kabupaten\n",
        "\n",
        "labelencoder = LabelEncoder()\n",
        "df['tingkat_resiko'] = labelencoder.fit_transform(df['tingkat_resiko'])\n",
        "df"
      ],
      "metadata": {
        "id": "IB5foTBGUu_N",
        "outputId": "0de04363-e293-463e-d29d-23002341abbf",
        "colab": {
          "base_uri": "https://localhost:8080/",
          "height": 424
        }
      },
      "execution_count": null,
      "outputs": [
        {
          "output_type": "execute_result",
          "data": {
            "text/plain": [
              "     kasus_positif_total  total_meninggal  masih_sakit  total_sembuh  \\\n",
              "0                 25.421            424.0          1.0        24.996   \n",
              "1                  4.475            115.0        104.0         4.256   \n",
              "2                  2.818             87.0         64.0         2.667   \n",
              "3                  2.566             52.0         26.0         2.488   \n",
              "4                  2.148             93.0         78.0         1.977   \n",
              "..                   ...              ...          ...           ...   \n",
              "145                1.131             32.0          0.0         1.099   \n",
              "146                1.098             34.0          0.0         1.064   \n",
              "147              859.000             26.0          3.0       830.000   \n",
              "148              830.000              4.0          0.0       826.000   \n",
              "149              622.000              9.0          0.0       613.000   \n",
              "\n",
              "     tingkat_resiko  \n",
              "0                 1  \n",
              "1                 1  \n",
              "2                 0  \n",
              "3                 0  \n",
              "4                 1  \n",
              "..              ...  \n",
              "145               1  \n",
              "146               1  \n",
              "147               1  \n",
              "148               0  \n",
              "149               0  \n",
              "\n",
              "[150 rows x 5 columns]"
            ],
            "text/html": [
              "\n",
              "  <div id=\"df-e58692a2-df8c-4f98-8b0a-6dc3595ec4b2\">\n",
              "    <div class=\"colab-df-container\">\n",
              "      <div>\n",
              "<style scoped>\n",
              "    .dataframe tbody tr th:only-of-type {\n",
              "        vertical-align: middle;\n",
              "    }\n",
              "\n",
              "    .dataframe tbody tr th {\n",
              "        vertical-align: top;\n",
              "    }\n",
              "\n",
              "    .dataframe thead th {\n",
              "        text-align: right;\n",
              "    }\n",
              "</style>\n",
              "<table border=\"1\" class=\"dataframe\">\n",
              "  <thead>\n",
              "    <tr style=\"text-align: right;\">\n",
              "      <th></th>\n",
              "      <th>kasus_positif_total</th>\n",
              "      <th>total_meninggal</th>\n",
              "      <th>masih_sakit</th>\n",
              "      <th>total_sembuh</th>\n",
              "      <th>tingkat_resiko</th>\n",
              "    </tr>\n",
              "  </thead>\n",
              "  <tbody>\n",
              "    <tr>\n",
              "      <th>0</th>\n",
              "      <td>25.421</td>\n",
              "      <td>424.0</td>\n",
              "      <td>1.0</td>\n",
              "      <td>24.996</td>\n",
              "      <td>1</td>\n",
              "    </tr>\n",
              "    <tr>\n",
              "      <th>1</th>\n",
              "      <td>4.475</td>\n",
              "      <td>115.0</td>\n",
              "      <td>104.0</td>\n",
              "      <td>4.256</td>\n",
              "      <td>1</td>\n",
              "    </tr>\n",
              "    <tr>\n",
              "      <th>2</th>\n",
              "      <td>2.818</td>\n",
              "      <td>87.0</td>\n",
              "      <td>64.0</td>\n",
              "      <td>2.667</td>\n",
              "      <td>0</td>\n",
              "    </tr>\n",
              "    <tr>\n",
              "      <th>3</th>\n",
              "      <td>2.566</td>\n",
              "      <td>52.0</td>\n",
              "      <td>26.0</td>\n",
              "      <td>2.488</td>\n",
              "      <td>0</td>\n",
              "    </tr>\n",
              "    <tr>\n",
              "      <th>4</th>\n",
              "      <td>2.148</td>\n",
              "      <td>93.0</td>\n",
              "      <td>78.0</td>\n",
              "      <td>1.977</td>\n",
              "      <td>1</td>\n",
              "    </tr>\n",
              "    <tr>\n",
              "      <th>...</th>\n",
              "      <td>...</td>\n",
              "      <td>...</td>\n",
              "      <td>...</td>\n",
              "      <td>...</td>\n",
              "      <td>...</td>\n",
              "    </tr>\n",
              "    <tr>\n",
              "      <th>145</th>\n",
              "      <td>1.131</td>\n",
              "      <td>32.0</td>\n",
              "      <td>0.0</td>\n",
              "      <td>1.099</td>\n",
              "      <td>1</td>\n",
              "    </tr>\n",
              "    <tr>\n",
              "      <th>146</th>\n",
              "      <td>1.098</td>\n",
              "      <td>34.0</td>\n",
              "      <td>0.0</td>\n",
              "      <td>1.064</td>\n",
              "      <td>1</td>\n",
              "    </tr>\n",
              "    <tr>\n",
              "      <th>147</th>\n",
              "      <td>859.000</td>\n",
              "      <td>26.0</td>\n",
              "      <td>3.0</td>\n",
              "      <td>830.000</td>\n",
              "      <td>1</td>\n",
              "    </tr>\n",
              "    <tr>\n",
              "      <th>148</th>\n",
              "      <td>830.000</td>\n",
              "      <td>4.0</td>\n",
              "      <td>0.0</td>\n",
              "      <td>826.000</td>\n",
              "      <td>0</td>\n",
              "    </tr>\n",
              "    <tr>\n",
              "      <th>149</th>\n",
              "      <td>622.000</td>\n",
              "      <td>9.0</td>\n",
              "      <td>0.0</td>\n",
              "      <td>613.000</td>\n",
              "      <td>0</td>\n",
              "    </tr>\n",
              "  </tbody>\n",
              "</table>\n",
              "<p>150 rows × 5 columns</p>\n",
              "</div>\n",
              "      <button class=\"colab-df-convert\" onclick=\"convertToInteractive('df-e58692a2-df8c-4f98-8b0a-6dc3595ec4b2')\"\n",
              "              title=\"Convert this dataframe to an interactive table.\"\n",
              "              style=\"display:none;\">\n",
              "        \n",
              "  <svg xmlns=\"http://www.w3.org/2000/svg\" height=\"24px\"viewBox=\"0 0 24 24\"\n",
              "       width=\"24px\">\n",
              "    <path d=\"M0 0h24v24H0V0z\" fill=\"none\"/>\n",
              "    <path d=\"M18.56 5.44l.94 2.06.94-2.06 2.06-.94-2.06-.94-.94-2.06-.94 2.06-2.06.94zm-11 1L8.5 8.5l.94-2.06 2.06-.94-2.06-.94L8.5 2.5l-.94 2.06-2.06.94zm10 10l.94 2.06.94-2.06 2.06-.94-2.06-.94-.94-2.06-.94 2.06-2.06.94z\"/><path d=\"M17.41 7.96l-1.37-1.37c-.4-.4-.92-.59-1.43-.59-.52 0-1.04.2-1.43.59L10.3 9.45l-7.72 7.72c-.78.78-.78 2.05 0 2.83L4 21.41c.39.39.9.59 1.41.59.51 0 1.02-.2 1.41-.59l7.78-7.78 2.81-2.81c.8-.78.8-2.07 0-2.86zM5.41 20L4 18.59l7.72-7.72 1.47 1.35L5.41 20z\"/>\n",
              "  </svg>\n",
              "      </button>\n",
              "      \n",
              "  <style>\n",
              "    .colab-df-container {\n",
              "      display:flex;\n",
              "      flex-wrap:wrap;\n",
              "      gap: 12px;\n",
              "    }\n",
              "\n",
              "    .colab-df-convert {\n",
              "      background-color: #E8F0FE;\n",
              "      border: none;\n",
              "      border-radius: 50%;\n",
              "      cursor: pointer;\n",
              "      display: none;\n",
              "      fill: #1967D2;\n",
              "      height: 32px;\n",
              "      padding: 0 0 0 0;\n",
              "      width: 32px;\n",
              "    }\n",
              "\n",
              "    .colab-df-convert:hover {\n",
              "      background-color: #E2EBFA;\n",
              "      box-shadow: 0px 1px 2px rgba(60, 64, 67, 0.3), 0px 1px 3px 1px rgba(60, 64, 67, 0.15);\n",
              "      fill: #174EA6;\n",
              "    }\n",
              "\n",
              "    [theme=dark] .colab-df-convert {\n",
              "      background-color: #3B4455;\n",
              "      fill: #D2E3FC;\n",
              "    }\n",
              "\n",
              "    [theme=dark] .colab-df-convert:hover {\n",
              "      background-color: #434B5C;\n",
              "      box-shadow: 0px 1px 3px 1px rgba(0, 0, 0, 0.15);\n",
              "      filter: drop-shadow(0px 1px 2px rgba(0, 0, 0, 0.3));\n",
              "      fill: #FFFFFF;\n",
              "    }\n",
              "  </style>\n",
              "\n",
              "      <script>\n",
              "        const buttonEl =\n",
              "          document.querySelector('#df-e58692a2-df8c-4f98-8b0a-6dc3595ec4b2 button.colab-df-convert');\n",
              "        buttonEl.style.display =\n",
              "          google.colab.kernel.accessAllowed ? 'block' : 'none';\n",
              "\n",
              "        async function convertToInteractive(key) {\n",
              "          const element = document.querySelector('#df-e58692a2-df8c-4f98-8b0a-6dc3595ec4b2');\n",
              "          const dataTable =\n",
              "            await google.colab.kernel.invokeFunction('convertToInteractive',\n",
              "                                                     [key], {});\n",
              "          if (!dataTable) return;\n",
              "\n",
              "          const docLinkHtml = 'Like what you see? Visit the ' +\n",
              "            '<a target=\"_blank\" href=https://colab.research.google.com/notebooks/data_table.ipynb>data table notebook</a>'\n",
              "            + ' to learn more about interactive tables.';\n",
              "          element.innerHTML = '';\n",
              "          dataTable['output_type'] = 'display_data';\n",
              "          await google.colab.output.renderOutput(dataTable, element);\n",
              "          const docLink = document.createElement('div');\n",
              "          docLink.innerHTML = docLinkHtml;\n",
              "          element.appendChild(docLink);\n",
              "        }\n",
              "      </script>\n",
              "    </div>\n",
              "  </div>\n",
              "  "
            ]
          },
          "metadata": {},
          "execution_count": 6
        }
      ]
    },
    {
      "cell_type": "code",
      "source": [
        "df['tingkat_resiko'].value_counts()"
      ],
      "metadata": {
        "id": "72n5bVipapPx",
        "outputId": "44fa899b-dfe1-4848-f09f-621d646765f6",
        "colab": {
          "base_uri": "https://localhost:8080/"
        }
      },
      "execution_count": null,
      "outputs": [
        {
          "output_type": "execute_result",
          "data": {
            "text/plain": [
              "0    106\n",
              "1     44\n",
              "Name: tingkat_resiko, dtype: int64"
            ]
          },
          "metadata": {},
          "execution_count": 7
        }
      ]
    },
    {
      "cell_type": "markdown",
      "source": [
        "##Pembagian antara data Fitur dan Label. Dari data Sumatera di atas, terdapat 4 kolom fitur (data source(x)) yang terdiri dari kota_kabupaten kasus_positif_total, total_meninggal, masih_sakit dan total_sembuh. Sedangkan data Label terdiri 1 kolom (data target(y)) yang berupa kolom tingkat_resiko"
      ],
      "metadata": {
        "id": "yulJIWHokJ5T"
      }
    },
    {
      "cell_type": "code",
      "source": [
        "# Type Your Code\n",
        "X = df.iloc[:,:4].values\n",
        "Y = df.iloc[:,4].values"
      ],
      "metadata": {
        "id": "BD98itIhU3aa"
      },
      "execution_count": null,
      "outputs": []
    },
    {
      "cell_type": "code",
      "source": [
        "# # Type Your Code\n",
        "# print ('Fitur (X):', X)\n",
        "# print ('\\n---------------------------------')\n",
        "# print ('\\nLabel (Y):', Y)"
      ],
      "metadata": {
        "id": "xBlaA7NkV8wa"
      },
      "execution_count": null,
      "outputs": []
    },
    {
      "cell_type": "markdown",
      "source": [
        "## Membagi dataset menjadi training set (80%) dan validation set (20%)"
      ],
      "metadata": {
        "id": "6Sz4V97UWS3w"
      }
    },
    {
      "cell_type": "markdown",
      "source": [
        "X_train, X_test, y_train, y_test = train_test_split(X, y, test_size=0.2)\n",
        "\n",
        "> X_train: Untuk menampung data source yang akan dilatih.\n",
        "\n",
        "> X_test: Untuk menampung data target yang akan dilatih.\n",
        "\n",
        "> y_train: Untuk menampung data source yang akan digunakan untuk testing.\n",
        "\n",
        "> y_test: Untuk menampung data target yang akan digunakan untuk testing.\n",
        "\n",
        "\n",
        "\n",
        "\n",
        "\n",
        "\n",
        "\n"
      ],
      "metadata": {
        "id": "jxm6lkwWs1Pf"
      }
    },
    {
      "cell_type": "code",
      "source": [
        "from sklearn.model_selection import train_test_split\n",
        "\n",
        "X_train,X_test,Y_train,Y_test = train_test_split(X,Y,test_size= 0.2,random_state=0)\n",
        "\n",
        "X_train.shape, X_test.shape, Y_train.shape, Y_test.shape"
      ],
      "metadata": {
        "id": "yLQoihC6W5JE",
        "outputId": "1b9c7f46-8d57-4c1d-e8b7-4567198e20bb",
        "colab": {
          "base_uri": "https://localhost:8080/"
        }
      },
      "execution_count": null,
      "outputs": [
        {
          "output_type": "execute_result",
          "data": {
            "text/plain": [
              "((120, 4), (30, 4), (120,), (30,))"
            ]
          },
          "metadata": {},
          "execution_count": 10
        }
      ]
    },
    {
      "cell_type": "markdown",
      "source": [
        "# Melakukan Normalisasi Data\n",
        "\n",
        "## Normalisasi data dapat dilakukan dengan menggunakan class StandarScaler. Normalisasi data dilakukan agar data yang digunakan tidak memiliki penyimpangan yang besar."
      ],
      "metadata": {
        "id": "HL8JXHrD_CnS"
      }
    },
    {
      "cell_type": "code",
      "source": [
        "from sklearn.preprocessing import StandardScaler\n",
        "\n",
        "scaler = StandardScaler()\n",
        "\n",
        "#fit and transform the training set\n",
        "X_train = scaler.fit_transform(X_train)\n",
        "\n",
        "# fit the test set\n",
        "X_test = scaler.transform(X_test)\n"
      ],
      "metadata": {
        "id": "Tojn46cmCAN5"
      },
      "execution_count": null,
      "outputs": []
    },
    {
      "cell_type": "markdown",
      "source": [
        "#Modelling KNN"
      ],
      "metadata": {
        "id": "ZbHJAFVxLMV0"
      }
    },
    {
      "cell_type": "code",
      "source": [
        "# import knn\n",
        "from sklearn import neighbors\n",
        "from sklearn.neighbors import KNeighborsClassifier\n",
        "\n",
        "#create KNN Classifier\n",
        "knn = KNeighborsClassifier(n_neighbors=4)\n",
        "#3, 4, 5, 6\n",
        "\n",
        "#Train the model using the training sets\n",
        "knn.fit(X_train, Y_train)\n",
        "\n",
        "# Predict\n",
        "y_predict = knn.predict(X_test)"
      ],
      "metadata": {
        "id": "B_bcML7JLOmP"
      },
      "execution_count": null,
      "outputs": []
    },
    {
      "cell_type": "markdown",
      "source": [
        "#Confusion Matrix\n"
      ],
      "metadata": {
        "id": "NPvmGa5WI7u_"
      }
    },
    {
      "cell_type": "markdown",
      "source": [
        "confusion matrix / error matrix, membandingkan hasil klasifikasi yang dilakukan oleh sistem (model) dengan hasil klasifikasi sebenarnya. Untuk mengukur performance metrics dari confusion matrix, dapat digunakna accuracy, precission dan recall.\n",
        "\n",
        "> Accuracy: Tingkat kedekatan nilai prediksi dengan nilai aktual (sebenarnya). Dari nilai accuracy, kita dapat menngetahui berapa persen kota yang benar diprediksi masuk kategori tingkat resiko rendah maupun tinggi.\n",
        "\n",
        "\n",
        "> Precission: rasio prediksi benar positif dibandingkan dengan keseluruhan hasil yang diprediksi positif. Dari nilai Precision, kita dapat mengetahui berapa persen kota/kabupaten yang benar masuk dalam tingkat penyebaran dengan resiko tinggi dari seluruh kota/kabupaten yang diprediksi masuk ke kategori resiko tinggi.\n",
        "\n",
        "\n",
        "\n",
        "> Recall: rasio prediksi benar positif dibandingkan dengan keseluruhan data yang benar positif. Dengan nilai Recall, kita dapat mengetahui berapa persen kota/kab yang diprediksi masuk tingkat resiko tinggi dibandingkan keseluruhan kota/kab yang sebenarnya masuk dalam resiko tinggi. \n",
        "\n",
        "\n",
        "\n",
        "\n",
        "\n"
      ],
      "metadata": {
        "id": "m6w5SIdKxs05"
      }
    },
    {
      "cell_type": "code",
      "source": [
        "from sklearn.metrics import confusion_matrix\n",
        "# confusion_matrix(Y_test, y_predict) "
      ],
      "metadata": {
        "id": "B74WUSHtLqd2"
      },
      "execution_count": null,
      "outputs": []
    },
    {
      "cell_type": "code",
      "source": [
        "#Import Module\n",
        "from sklearn import metrics\n",
        "\n",
        "#Show the Confusion Matrix\n",
        "cm_knn = metrics.confusion_matrix(Y_test, y_predict)\n",
        "cm_knn"
      ],
      "metadata": {
        "id": "uwsgjgnRIN4W",
        "outputId": "7a729d25-584e-40ac-f36b-1db2c8466d5f",
        "colab": {
          "base_uri": "https://localhost:8080/"
        }
      },
      "execution_count": null,
      "outputs": [
        {
          "output_type": "execute_result",
          "data": {
            "text/plain": [
              "array([[19,  0],\n",
              "       [ 6,  5]])"
            ]
          },
          "metadata": {},
          "execution_count": 14
        }
      ]
    },
    {
      "cell_type": "code",
      "source": [
        "# Show the Accuracy, Precision, Recall\n",
        "acc_knn = metrics.accuracy_score(Y_test, y_predict)\n",
        "prec_knn = metrics.precision_score(Y_test, y_predict, average='weighted')\n",
        "rec_knn = metrics.recall_score(Y_test, y_predict, average='weighted')\n",
        "f1_knn = metrics.f1_score(Y_test, y_predict, average='weighted')\n",
        "kappa_knn = metrics.cohen_kappa_score(Y_test, y_predict)\n",
        "\n",
        "print(\"Accuracy:\", acc_knn)\n",
        "print(\"Precision:\", prec_knn)\n",
        "print(\"Recall:\", rec_knn)\n",
        "print(\"F1 Score:\", f1_knn)\n",
        "print(\"Cohens Kappa Score:\", kappa_knn)"
      ],
      "metadata": {
        "id": "ymUII_1HJ9l2",
        "outputId": "420185ea-912d-443a-ec81-08b57ddb1915",
        "colab": {
          "base_uri": "https://localhost:8080/"
        }
      },
      "execution_count": null,
      "outputs": [
        {
          "output_type": "stream",
          "name": "stdout",
          "text": [
            "Accuracy: 0.8\n",
            "Precision: 0.848\n",
            "Recall: 0.8\n",
            "F1 Score: 0.7761363636363636\n",
            "Cohens Kappa Score: 0.5135135135135135\n"
          ]
        }
      ]
    },
    {
      "cell_type": "code",
      "source": [
        "#memvisualisasikan confusion matrix\n",
        "\n",
        "import seaborn as sns\n",
        "import matplotlib.pyplot as plt\n",
        "\n",
        "f, ax = plt.subplots(figsize=(8,5))\n",
        "sns.heatmap(metrics.confusion_matrix(Y_test, y_predict), annot=True, fmt=\".0f\", ax=ax)\n",
        "plt.xlabel(\"Predicted Label\")\n",
        "plt.ylabel(\"True Label\")\n",
        "plt.show()"
      ],
      "metadata": {
        "id": "QgAgdyhSK7HR",
        "outputId": "4cb6c9e6-9564-4905-b870-e51b12ddcc64",
        "colab": {
          "base_uri": "https://localhost:8080/",
          "height": 334
        }
      },
      "execution_count": null,
      "outputs": [
        {
          "output_type": "display_data",
          "data": {
            "text/plain": [
              "<Figure size 576x360 with 2 Axes>"
            ],
            "image/png": "[encoded data removed]"
          },
          "metadata": {
            "needs_background": "light"
          }
        }
      ]
    },
    {
      "cell_type": "code",
      "source": [
        "from sklearn.metrics import classification_report\n",
        "\n",
        "print (classification_report(Y_test, y_predict))"
      ],
      "metadata": {
        "id": "3Wz-G7q7MOoX",
        "outputId": "0198fcc0-c2ff-4bbd-ab64-fce3d196673e",
        "colab": {
          "base_uri": "https://localhost:8080/"
        }
      },
      "execution_count": null,
      "outputs": [
        {
          "output_type": "stream",
          "name": "stdout",
          "text": [
            "              precision    recall  f1-score   support\n",
            "\n",
            "           0       0.76      1.00      0.86        19\n",
            "           1       1.00      0.45      0.62        11\n",
            "\n",
            "    accuracy                           0.80        30\n",
            "   macro avg       0.88      0.73      0.74        30\n",
            "weighted avg       0.85      0.80      0.78        30\n",
            "\n"
          ]
        }
      ]
    },
    {
      "cell_type": "markdown",
      "source": [
        "##Modelling SVM \n"
      ],
      "metadata": {
        "id": "Jv99yfUOpKAJ"
      }
    },
    {
      "cell_type": "code",
      "source": [
        "#import svm model\n",
        "from sklearn import svm\n",
        "\n",
        "#create a scm Classifier\n",
        "clf = svm.SVC(kernel='poly') #Linear Kernel\n",
        "#RBF, Polynomial, Sigmoid\n",
        "\n",
        "#Train the model using the training sets\n",
        "clf.fit(X_train, Y_train)\n",
        "\n",
        "#Predict the response for test dataset\n",
        "y_pred_svm = clf.predict(X_test)"
      ],
      "metadata": {
        "id": "nrxGR8C5pNkG"
      },
      "execution_count": null,
      "outputs": []
    },
    {
      "cell_type": "code",
      "source": [
        "#Confusion Matrix\n",
        "confusion_matrix(Y_test, y_pred_svm)"
      ],
      "metadata": {
        "id": "cIXvwYINqodC",
        "outputId": "0c748a40-5ec4-49e7-b268-7c85eef8cba1",
        "colab": {
          "base_uri": "https://localhost:8080/"
        }
      },
      "execution_count": null,
      "outputs": [
        {
          "output_type": "execute_result",
          "data": {
            "text/plain": [
              "array([[19,  0],\n",
              "       [ 7,  4]])"
            ]
          },
          "metadata": {},
          "execution_count": 19
        }
      ]
    },
    {
      "cell_type": "code",
      "source": [
        "# Show the Accuracy, Precision, Recall\n",
        "acc_svm = metrics.accuracy_score(Y_test,y_pred_svm)\n",
        "prec_svm = metrics.precision_score(Y_test,y_pred_svm, average='weighted')\n",
        "rec_svm = metrics.recall_score(Y_test,y_pred_svm, average='weighted')\n",
        "f1_svm = metrics.f1_score(Y_test,y_pred_svm, average='weighted')\n",
        "kappa_svm = metrics.cohen_kappa_score(Y_test,y_pred_svm)\n",
        "\n",
        "print(\"Accuracy:\", acc_svm)\n",
        "print(\"Precision:\", prec_svm)\n",
        "print(\"Recall:\", rec_svm)\n",
        "print(\"F1 Score:\", f1_svm)\n",
        "print(\"Cohens Kappa Score:\", kappa_svm)"
      ],
      "metadata": {
        "id": "gt58XLnKr-x8",
        "outputId": "2f831ef7-dd4f-461e-b5ab-efb8d0c45a4e",
        "colab": {
          "base_uri": "https://localhost:8080/"
        }
      },
      "execution_count": null,
      "outputs": [
        {
          "output_type": "stream",
          "name": "stdout",
          "text": [
            "Accuracy: 0.7666666666666667\n",
            "Precision: 0.8294871794871794\n",
            "Recall: 0.7666666666666667\n",
            "F1 Score: 0.7303703703703702\n",
            "Cohens Kappa Score: 0.419889502762431\n"
          ]
        }
      ]
    },
    {
      "cell_type": "code",
      "source": [
        "#memvisualisasikan confusion matrix\n",
        "\n",
        "import seaborn as sns\n",
        "import matplotlib.pyplot as plt\n",
        "\n",
        "f, ax = plt.subplots(figsize=(8,5))\n",
        "sns.heatmap(metrics.confusion_matrix(Y_test, y_pred_svm), annot=True, fmt=\".0f\", ax=ax)\n",
        "plt.xlabel(\"Predicted Label\")\n",
        "plt.ylabel(\"True Label\")\n",
        "plt.show()"
      ],
      "metadata": {
        "id": "ouDVQJZksvjv",
        "outputId": "c790b640-a2c8-4e38-bba6-21d021c7adcc",
        "colab": {
          "base_uri": "https://localhost:8080/",
          "height": 334
        }
      },
      "execution_count": null,
      "outputs": [
        {
          "output_type": "display_data",
          "data": {
            "text/plain": [
              "<Figure size 576x360 with 2 Axes>"
            ],
            "image/png": "[encoded data removed]"
          },
          "metadata": {
            "needs_background": "light"
          }
        }
      ]
    },
    {
      "cell_type": "code",
      "source": [
        "print(classification_report(Y_test, y_pred_svm))"
      ],
      "metadata": {
        "id": "pQ9W037kq97M",
        "outputId": "55cb7f66-628e-43dc-a3f1-fc9f6e1c6eb9",
        "colab": {
          "base_uri": "https://localhost:8080/"
        }
      },
      "execution_count": null,
      "outputs": [
        {
          "output_type": "stream",
          "name": "stdout",
          "text": [
            "              precision    recall  f1-score   support\n",
            "\n",
            "           0       0.73      1.00      0.84        19\n",
            "           1       1.00      0.36      0.53        11\n",
            "\n",
            "    accuracy                           0.77        30\n",
            "   macro avg       0.87      0.68      0.69        30\n",
            "weighted avg       0.83      0.77      0.73        30\n",
            "\n"
          ]
        }
      ]
    }
  ]
}